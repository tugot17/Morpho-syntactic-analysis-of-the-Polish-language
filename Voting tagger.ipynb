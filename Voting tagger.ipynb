{
 "cells": [
  {
   "cell_type": "code",
   "execution_count": 1,
   "metadata": {},
   "outputs": [],
   "source": [
    "import json\n",
    "import requests\n",
    "from tqdm import tqdm\n",
    "from xml.etree import ElementTree\n",
    "from clarin import get_word_base_and_tag as carlin_tagger\n",
    "from clarin_morphoDita import get_word_base_and_tag as morphoDita_tagger\n",
    "\n",
    "url = \"http://localhost:9003/?output_format=jsonl\"\n",
    "\n",
    "text = \"A mogę, bo moim zdaniem jest do niczego. I to delikatnie mówiąc... Rzecz gustu :) Ja sobie z przyjemnością obejrzałam wczoraj \\\"Live and Let Die\\\". Nareszcie bez Connery'ego!!! Pasuje. Najbardziej ze wszystkich. Może trochę za ładny, ale grą pasuje. IMHO. A Connery to nie święta krowa ;)\""
   ]
  },
  {
   "cell_type": "code",
   "execution_count": 22,
   "metadata": {},
   "outputs": [],
   "source": [
    "def parse_line(line):\n",
    "    r = requests.post(url, data = line.encode('utf-8'))\n",
    "    out = json.loads(r.text)\n",
    "    return out\n",
    "\n",
    "flatten = lambda t: [item for sublist in t for item in sublist]\n",
    "\n",
    "def most_frequent(words): \n",
    "    counter = 0\n",
    "    mc = words[0] \n",
    "      \n",
    "    for i in words: \n",
    "        curr_frequency = len(list(filter(lambda x: x[2] == i[2], words)))\n",
    "        if(curr_frequency> counter): \n",
    "            counter = curr_frequency \n",
    "            mc = i \n",
    "  \n",
    "    return mc \n",
    "\n",
    "def vote(word):\n",
    "    krnnt_res = flatten(parse_line(word))\n",
    "    clarin_res = carlin_tagger(word)\n",
    "    morphodita_res = morphoDita_tagger(word)\n",
    "    return most_frequent([krnnt_res[0], clarin_res[0], morphodita_res[0]])"
   ]
  },
  {
   "cell_type": "code",
   "execution_count": 23,
   "metadata": {},
   "outputs": [
    {
     "data": {
      "text/plain": [
       "['zdaniem', 'zdanie', 'subst:sg:inst:n']"
      ]
     },
     "execution_count": 23,
     "metadata": {},
     "output_type": "execute_result"
    }
   ],
   "source": [
    "vote('zdaniem')"
   ]
  }
 ],
 "metadata": {
  "kernelspec": {
   "display_name": "Python 3",
   "language": "python",
   "name": "python3"
  },
  "language_info": {
   "codemirror_mode": {
    "name": "ipython",
    "version": 3
   },
   "file_extension": ".py",
   "mimetype": "text/x-python",
   "name": "python",
   "nbconvert_exporter": "python",
   "pygments_lexer": "ipython3",
   "version": "3.8.3"
  }
 },
 "nbformat": 4,
 "nbformat_minor": 4
}
