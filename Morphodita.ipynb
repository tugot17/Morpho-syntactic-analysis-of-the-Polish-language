{
 "cells": [
  {
   "cell_type": "code",
   "execution_count": 1,
   "metadata": {},
   "outputs": [],
   "source": [
    "import json\n",
    "import requests\n",
    "from tqdm import tqdm\n",
    "from xml.etree import ElementTree\n",
    "from clarin_morphoDita import get_word_base_and_tag\n",
    "\n",
    "text = \"A mogę, bo moim zdaniem jest do niczego. I to delikatnie mówiąc... Rzecz gustu :) Ja sobie z przyjemnością obejrzałam wczoraj \\\"Live and Let Die\\\". Nareszcie bez Connery'ego!!! Pasuje. Najbardziej ze wszystkich. Może trochę za ładny, ale grą pasuje. IMHO. A Connery to nie święta krowa ;)\""
   ]
  },
  {
   "cell_type": "code",
   "execution_count": 2,
   "metadata": {},
   "outputs": [],
   "source": [
    "with open('train-raw.txt') as f:\n",
    "    lines = list(filter(lambda x: x != \"\", [line.rstrip() for line in f]))\n",
    "tree = ElementTree.parse('train-gold.xml')\n",
    "root = tree.getroot()"
   ]
  },
  {
   "cell_type": "code",
   "execution_count": 3,
   "metadata": {},
   "outputs": [
    {
     "name": "stderr",
     "output_type": "stream",
     "text": [
      "100%|██████████| 18484/18484 [3:05:08<00:00,  1.66it/s]  \n"
     ]
    }
   ],
   "source": [
    "chunks = tree.find(\"chunkList\").findall(\"chunk\")\n",
    "\n",
    "matched = 0\n",
    "miss_matched = 0\n",
    "CTAG_POSSITION = 2\n",
    "BASE_POSSITION = 1\n",
    "TEXT_POSSITION = 0\n",
    "\n",
    "chunk_id = 0\n",
    "for line in tqdm(chunks):\n",
    "    curr_line = get_word_base_and_tag(lines[chunk_id])\n",
    "#     print(len(curr_line), curr_line)\n",
    "    word_id = 0\n",
    "    \n",
    "    for sentence in line.findall(\"chunk\"):\n",
    "        \n",
    "        for word in sentence.findall(\"tok\"):\n",
    "            if word_id >= len(curr_line):\n",
    "                miss_matched += 1\n",
    "                break\n",
    "            \n",
    "            curr_word = curr_line[word_id]\n",
    "            orth = word.find(\"orth\").text\n",
    "            base = word.find(\"lex\").find(\"base\").text\n",
    "            ctag = word.find(\"lex\").find(\"ctag\").text\n",
    "\n",
    "#             print(f\"{orth} {base} {ctag}\")\n",
    "#             print(curr_word)\n",
    "            if ctag == curr_word[CTAG_POSSITION]:\n",
    "                matched += 1\n",
    "            else:\n",
    "#                 print(orth, ctag)\n",
    "#                 print(curr_word[TEXT_POSSITION], curr_word[CTAG_POSSITION])\n",
    "                miss_matched += 1\n",
    "            word_id += 1\n",
    "            \n",
    "    chunk_id += 1"
   ]
  },
  {
   "cell_type": "code",
   "execution_count": 4,
   "metadata": {},
   "outputs": [
    {
     "name": "stdout",
     "output_type": "stream",
     "text": [
      "1073159 141838\n"
     ]
    }
   ],
   "source": [
    "print(matched, miss_matched)"
   ]
  },
  {
   "cell_type": "code",
   "execution_count": 5,
   "metadata": {},
   "outputs": [
    {
     "data": {
      "text/plain": [
       "0.8832606171044044"
      ]
     },
     "execution_count": 5,
     "metadata": {},
     "output_type": "execute_result"
    }
   ],
   "source": [
    "matched/(matched+miss_matched)"
   ]
  },
  {
   "cell_type": "code",
   "execution_count": null,
   "metadata": {},
   "outputs": [],
   "source": []
  }
 ],
 "metadata": {
  "kernelspec": {
   "display_name": "Python 3",
   "language": "python",
   "name": "python3"
  },
  "language_info": {
   "codemirror_mode": {
    "name": "ipython",
    "version": 3
   },
   "file_extension": ".py",
   "mimetype": "text/x-python",
   "name": "python",
   "nbconvert_exporter": "python",
   "pygments_lexer": "ipython3",
   "version": "3.8.3"
  }
 },
 "nbformat": 4,
 "nbformat_minor": 4
}
