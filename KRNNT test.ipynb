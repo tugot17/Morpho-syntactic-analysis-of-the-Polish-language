{
 "cells": [
  {
   "cell_type": "code",
   "execution_count": 3,
   "metadata": {},
   "outputs": [],
   "source": [
    "import json\n",
    "import requests\n",
    "from xml.etree import ElementTree\n",
    "\n",
    "url = \"http://localhost:9003/?output_format=jsonl\"\n",
    "\n",
    "text = \"A mogę, bo moim zdaniem jest do niczego. I to delikatnie mówiąc... Rzecz gustu :) Ja sobie z przyjemnością obejrzałam wczoraj \\\"Live and Let Die\\\". Nareszcie bez Connery'ego!!! Pasuje. Najbardziej ze wszystkich. Może trochę za ładny, ale grą pasuje. IMHO. A Connery to nie święta krowa ;)\""
   ]
  },
  {
   "cell_type": "code",
   "execution_count": 38,
   "metadata": {},
   "outputs": [],
   "source": [
    "def parse_line(line):\n",
    "    r = requests.post(url, data = line.encode('utf-8'))\n",
    "    out = json.loads(r.text)\n",
    "    return out\n",
    "\n",
    "flatten = lambda t: [item for sublist in t for item in sublist]"
   ]
  },
  {
   "cell_type": "code",
   "execution_count": 24,
   "metadata": {},
   "outputs": [],
   "source": [
    "with open('train-raw.txt') as f:\n",
    "    lines = list(filter(lambda x: x != \"\", [line.rstrip() for line in f]))\n",
    "tree = ElementTree.parse('train-gold.xml')\n",
    "root = tree.getroot()"
   ]
  },
  {
   "cell_type": "code",
   "execution_count": 51,
   "metadata": {},
   "outputs": [],
   "source": [
    "chunks = tree.find(\"chunkList\").findall(\"chunk\")\n",
    "\n",
    "matched = 0\n",
    "miss_matched = 0\n",
    "CTAG_POSSITION = 2\n",
    "BASE_POSSITION = 1\n",
    "TEXT_POSSITION = 0\n",
    "\n",
    "chunk_id = 0\n",
    "for line in chunks:\n",
    "    curr_line = flatten(parse_line(lines[chunk_id]))\n",
    "#     print(len(curr_line), curr_line)\n",
    "    word_id = 0\n",
    "    \n",
    "    for sentence in line.findall(\"chunk\"):\n",
    "        \n",
    "        for word in sentence.findall(\"tok\"):\n",
    "            if word_id >= len(curr_line):\n",
    "                miss_matched += 1\n",
    "                break\n",
    "            \n",
    "            curr_word = curr_line[word_id]\n",
    "            orth = word.find(\"orth\").text\n",
    "            base = word.find(\"lex\").find(\"base\").text\n",
    "            ctag = word.find(\"lex\").find(\"ctag\").text\n",
    "\n",
    "#             print(f\"{orth} {base} {ctag}\")\n",
    "#             print(curr_word)\n",
    "            if ctag == curr_word[CTAG_POSSITION]:\n",
    "                matched += 1\n",
    "            else:\n",
    "#                 print(orth, ctag)\n",
    "#                 print(curr_word[TEXT_POSSITION], curr_word[CTAG_POSSITION])\n",
    "                miss_matched += 1\n",
    "            word_id += 1\n",
    "            \n",
    "    chunk_id += 1"
   ]
  },
  {
   "cell_type": "code",
   "execution_count": 52,
   "metadata": {},
   "outputs": [
    {
     "name": "stdout",
     "output_type": "stream",
     "text": [
      "1121365 93709\n"
     ]
    }
   ],
   "source": [
    "print(matched, miss_matched)"
   ]
  },
  {
   "cell_type": "code",
   "execution_count": 53,
   "metadata": {},
   "outputs": [
    {
     "data": {
      "text/plain": [
       "0.9228779481743499"
      ]
     },
     "execution_count": 53,
     "metadata": {},
     "output_type": "execute_result"
    }
   ],
   "source": [
    "matched/(matched+miss_matched)"
   ]
  },
  {
   "cell_type": "code",
   "execution_count": null,
   "metadata": {},
   "outputs": [],
   "source": []
  }
 ],
 "metadata": {
  "kernelspec": {
   "display_name": "Python 3",
   "language": "python",
   "name": "python3"
  },
  "language_info": {
   "codemirror_mode": {
    "name": "ipython",
    "version": 3
   },
   "file_extension": ".py",
   "mimetype": "text/x-python",
   "name": "python",
   "nbconvert_exporter": "python",
   "pygments_lexer": "ipython3",
   "version": "3.8.3"
  }
 },
 "nbformat": 4,
 "nbformat_minor": 4
}
